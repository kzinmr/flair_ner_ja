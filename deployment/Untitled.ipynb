{
 "cells": [
  {
   "cell_type": "code",
   "execution_count": 1,
   "metadata": {},
   "outputs": [
    {
     "name": "stdout",
     "output_type": "stream",
     "text": [
      "2020-10-12 19:05:17,301 loading file /Users/kazukiinamura/flair/flair_ner_ja/deployment/model/best-model.pt\n"
     ]
    }
   ],
   "source": [
    "from flair.models import SequenceTagger\n",
    "from flair.data import Sentence  #, build_japanese_tokenizer\n",
    "\n",
    "import MeCab\n",
    "\n",
    "\n",
    "# tokenizer = build_japanese_tokenizer(tokenizer=\"MeCab\")\n",
    "wakati = MeCab.Tagger(\"-Owakati\")\n",
    "tagger = SequenceTagger.load(\"/Users/kazukiinamura/flair/flair_ner_ja/deployment/model/best-model.pt\")"
   ]
  },
  {
   "cell_type": "code",
   "execution_count": 9,
   "metadata": {},
   "outputs": [
    {
     "data": {
      "text/plain": [
       "{'value': 'PARTY', 'confidence': 0.9923550486564636}"
      ]
     },
     "execution_count": 9,
     "metadata": {},
     "output_type": "execute_result"
    }
   ],
   "source": [
    "sentence = '株式会社MNTSQ（以下、「甲」とする）'\n",
    "sentence = Sentence(' '.join(wakati.parse(sentence).split()))  #, use_tokenizer=tokenizer)\n",
    "tagger.predict(sentence)\n",
    "spans = sentence.get_spans('ner')\n",
    "spans"
   ]
  },
  {
   "cell_type": "code",
   "execution_count": 10,
   "metadata": {},
   "outputs": [
    {
     "data": {
      "text/plain": [
       "['{\"text\": \"株式会社 MNTSQ\", \"start_pos\": 0, \"end_pos\": 10, \"labels\": [{\"value\": \"PARTY\", \"confidence\": 0.9923550486564636}]}']"
      ]
     },
     "execution_count": 10,
     "metadata": {},
     "output_type": "execute_result"
    }
   ],
   "source": [
    "import json\n",
    "\n",
    "def span_to_dict(span):\n",
    "    d = span.to_dict()\n",
    "    d['labels'] = [l.to_dict() for l in d['labels']]\n",
    "    return d\n",
    "\n",
    "\n",
    "[json.dumps(span_to_dict(span), ensure_ascii=False) for span in spans]"
   ]
  },
  {
   "cell_type": "code",
   "execution_count": null,
   "metadata": {},
   "outputs": [],
   "source": []
  }
 ],
 "metadata": {
  "kernelspec": {
   "display_name": "Python 3",
   "language": "python",
   "name": "python3"
  },
  "language_info": {
   "codemirror_mode": {
    "name": "ipython",
    "version": 3
   },
   "file_extension": ".py",
   "mimetype": "text/x-python",
   "name": "python",
   "nbconvert_exporter": "python",
   "pygments_lexer": "ipython3",
   "version": "3.7.3"
  }
 },
 "nbformat": 4,
 "nbformat_minor": 4
}
